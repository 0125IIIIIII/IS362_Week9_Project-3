{
 "cells": [
  {
   "cell_type": "markdown",
   "id": "446bcf99",
   "metadata": {},
   "source": [
    "## Five tables join to combine customer, invoiceline, track and album\n",
    "Step 1: : Install SQLite support and pandas"
   ]
  },
  {
   "cell_type": "code",
   "execution_count": 1,
   "id": "4c6e3b62",
   "metadata": {},
   "outputs": [
    {
     "name": "stdout",
     "output_type": "stream",
     "text": [
      "Defaulting to user installation because normal site-packages is not writeable\n",
      "Requirement already satisfied: pandas in /opt/anaconda3/lib/python3.8/site-packages (1.3.0)\n",
      "Requirement already satisfied: numpy>=1.17.3 in /opt/anaconda3/lib/python3.8/site-packages (from pandas) (1.20.3)\n",
      "Requirement already satisfied: python-dateutil>=2.7.3 in /opt/anaconda3/lib/python3.8/site-packages (from pandas) (2.8.2)\n",
      "Requirement already satisfied: pytz>=2017.3 in /opt/anaconda3/lib/python3.8/site-packages (from pandas) (2021.1)\n",
      "Requirement already satisfied: six>=1.5 in /opt/anaconda3/lib/python3.8/site-packages (from python-dateutil>=2.7.3->pandas) (1.16.0)\n"
     ]
    }
   ],
   "source": [
    ">>> !pip install pandas"
   ]
  },
  {
   "cell_type": "markdown",
   "id": "1810acb2",
   "metadata": {},
   "source": [
    "Step 2: Import SQLite 3 and pandas libraries"
   ]
  },
  {
   "cell_type": "code",
   "execution_count": 2,
   "id": "b73d6fe7",
   "metadata": {},
   "outputs": [],
   "source": [
    ">>> import sqlite3 \n",
    "import pandas as pd                       "
   ]
  },
  {
   "cell_type": "markdown",
   "id": "01f1237c",
   "metadata": {},
   "source": [
    "Step 3: Download the SQLite version of the Chinook database from GitHub { sql-chinook-tutorial/chinook.db at master · lspaudel/sql-chinook-tutorial · GitHub }, then connect to the Chinook database."
   ]
  },
  {
   "cell_type": "code",
   "execution_count": 3,
   "id": "d7209052",
   "metadata": {},
   "outputs": [],
   "source": [
    ">>> conn = sqlite3.connect(\"chinook.db\")"
   ]
  },
  {
   "cell_type": "markdown",
   "id": "a66a0ab1",
   "metadata": {},
   "source": [
    "Step 4: SQL Query to join Customer, Invoice, InvoiceLine, Track, and Album tables"
   ]
  },
  {
   "cell_type": "code",
   "execution_count": 4,
   "id": "fdf9ea2d",
   "metadata": {},
   "outputs": [],
   "source": [
    ">>> query = \"\"\"\n",
    "SELECT \n",
    "    c.LastName,\n",
    "    c.FirstName,\n",
    "    il.InvoiceLineId,\n",
    "    t.Name AS TrackName,\n",
    "    a.Title AS AlbumTitle\n",
    "FROM Customer c\n",
    "JOIN Invoice i ON c.CustomerId = i.CustomerId\n",
    "JOIN InvoiceLine il ON i.InvoiceId = il.InvoiceId\n",
    "JOIN Track t ON il.TrackId = t.TrackId\n",
    "JOIN Album a ON t.AlbumId = a.AlbumId\n",
    "ORDER BY c.LastName, c.FirstName;\n",
    "\"\"\""
   ]
  },
  {
   "cell_type": "markdown",
   "id": "1b36fc58",
   "metadata": {},
   "source": [
    "Step 5: Run the query and load 5 results into a pandas dataframe, and close the connection"
   ]
  },
  {
   "cell_type": "code",
   "execution_count": 5,
   "id": "1b26f3e4",
   "metadata": {},
   "outputs": [
    {
     "name": "stdout",
     "output_type": "stream",
     "text": [
      "  LastName FirstName  InvoiceLineId  \\\n",
      "0  Almeida   Roberto            188   \n",
      "1  Almeida   Roberto            837   \n",
      "2  Almeida   Roberto            838   \n",
      "3  Almeida   Roberto            896   \n",
      "4  Almeida   Roberto            897   \n",
      "\n",
      "                                           TrackName               AlbumTitle  \n",
      "0                            Right Next Door to Hell      Use Your Illusion I  \n",
      "1                                     In The Evening  In Through The Out Door  \n",
      "2                                   Fool In The Rain  In Through The Out Door  \n",
      "3  Saudade Dos Aviões Da Panair (Conversando No Bar)                    Minas  \n",
      "4                             Caso Você Queira Saber                    Minas  \n"
     ]
    }
   ],
   "source": [
    ">>> df = pd.read_sql_query(query, conn)\n",
    "print(df.head(5))\n",
    "conn.close()"
   ]
  },
  {
   "cell_type": "code",
   "execution_count": null,
   "id": "34ef2775",
   "metadata": {},
   "outputs": [],
   "source": []
  }
 ],
 "metadata": {
  "kernelspec": {
   "display_name": "Python 3",
   "language": "python",
   "name": "python3"
  },
  "language_info": {
   "codemirror_mode": {
    "name": "ipython",
    "version": 3
   },
   "file_extension": ".py",
   "mimetype": "text/x-python",
   "name": "python",
   "nbconvert_exporter": "python",
   "pygments_lexer": "ipython3",
   "version": "3.8.10"
  }
 },
 "nbformat": 4,
 "nbformat_minor": 5
}
